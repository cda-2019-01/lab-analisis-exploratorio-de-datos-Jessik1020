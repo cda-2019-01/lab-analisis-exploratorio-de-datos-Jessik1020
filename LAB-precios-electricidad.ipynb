{
 "cells": [
  {
   "cell_type": "markdown",
   "metadata": {},
   "source": [
    "Evolución de los Precios de la Electricidad\n",
    "==="
   ]
  },
  {
   "cell_type": "markdown",
   "metadata": {},
   "source": [
    "# Instrucciones"
   ]
  },
  {
   "cell_type": "markdown",
   "metadata": {},
   "source": [
    "En el archivo `precios.zip`  se encuentran los archivos `Precio_Bolsa_Nacional_($kwh)_ano.xls` en formato de Microsoft Excel, los cuales contienen los precios históricos horarios de la electricidad para el mercado eléctrico Colombiano entre los años 1995 y 2017 en COL-PESOS/kWh. A partir de la información suministrada realice las siguientes actividades. "
   ]
  },
  {
   "cell_type": "markdown",
   "metadata": {},
   "source": [
    "**1.--** Lea los archivos y cree una tabla única concatenando la información para cada uno de los años. Debe transformar la tabla de tal forma que quede con las columnas `Fecha`, `Hora` y `Precio` (únicamente tres columnas)."
   ]
  },
  {
   "cell_type": "code",
   "execution_count": 1,
   "metadata": {},
   "outputs": [],
   "source": [
    "import matplotlib.pyplot as plt\n",
    "import matplotlib as mpl\n",
    "import pandas as pd\n",
    "import numpy as np\n",
    "import datetime as dt\n",
    "import glob\n",
    "\n",
    "%matplotlib inline\n"
   ]
  },
  {
   "cell_type": "code",
   "execution_count": 2,
   "metadata": {},
   "outputs": [],
   "source": [
    "filenames = !ls precios/\n",
    "def leer_precios(filename): #define una funcion que lee los precios\n",
    "    for k in range(5): #busca las primeras 10 lineas del archivo\n",
    "        df = pd.read_excel(filename,\n",
    "                           skiprows = k, #no cuente las filas\n",
    "                           usecols = list(range(25))) #vaya a las 24 horas\n",
    "        if df.iloc[0,0] == 'Fecha':\n",
    "            df = pd.read_excel(filename,\n",
    "                               skiprows = k+1,\n",
    "                               usecols = list(range(25)))\n",
    "            break\n",
    "        \n",
    "    return(df)\n",
    "\n"
   ]
  },
  {
   "cell_type": "code",
   "execution_count": 3,
   "metadata": {},
   "outputs": [],
   "source": [
    "\n",
    "dfs =[] #Crea dataframe vacio para depositar los archivos\n",
    "for filename in filenames:\n",
    "    dfs.append(leer_precios(\"precios/\"+filename))"
   ]
  },
  {
   "cell_type": "code",
   "execution_count": 8,
   "metadata": {},
   "outputs": [],
   "source": [
    "\n",
    "dfs =[] #Crea dataframe vacio para depositar los archivos\n",
    "for filename in filenames:\n",
    "    dfs.append(leer_precios(\"precios/\"+filename))"
   ]
  },
  {
   "cell_type": "code",
   "execution_count": 9,
   "metadata": {},
   "outputs": [
    {
     "data": {
      "text/plain": [
       "Index(['Fecha', 'variable', 'value'], dtype='object')"
      ]
     },
     "execution_count": 9,
     "metadata": {},
     "output_type": "execute_result"
    }
   ],
   "source": [
    "dfs = pd.concat(dfs)\n",
    "dfs1=pd.melt(dfs,id_vars='Fecha') #convierte las horas en columnas por filas\n",
    "dfs1.columns"
   ]
  },
  {
   "cell_type": "code",
   "execution_count": 10,
   "metadata": {},
   "outputs": [],
   "source": [
    "#Cambiar nombre columna\n",
    "dfs1=dfs1.rename(columns = {'variable':'Hora'})\n",
    "dfs1=dfs1.rename(columns = {'value':'Precio'})"
   ]
  },
  {
   "cell_type": "markdown",
   "metadata": {},
   "source": [
    "**2.--** Compute e imprima el número de registros con datos faltantes."
   ]
  },
  {
   "cell_type": "code",
   "execution_count": 11,
   "metadata": {},
   "outputs": [
    {
     "data": {
      "text/plain": [
       "454"
      ]
     },
     "execution_count": 11,
     "metadata": {},
     "output_type": "execute_result"
    }
   ],
   "source": [
    "#Contar valores NAN\n",
    "dfs1.isnull().sum().sum()"
   ]
  },
  {
   "cell_type": "markdown",
   "metadata": {},
   "source": [
    "**3.--** Compute e imprima el número de registros duplicados."
   ]
  },
  {
   "cell_type": "code",
   "execution_count": 12,
   "metadata": {},
   "outputs": [
    {
     "data": {
      "text/plain": [
       "1951"
      ]
     },
     "execution_count": 12,
     "metadata": {},
     "output_type": "execute_result"
    }
   ],
   "source": [
    "#Registros duplicados\n",
    "dfunique = dfs1.copy()\n",
    "dfunique = len(dfunique.drop_duplicates().index)\n",
    "duplicados =  len(dfs1.index) - dfunique\n",
    "duplicados"
   ]
  },
  {
   "cell_type": "markdown",
   "metadata": {},
   "source": [
    "**4.--** Elimine los registros con datos duplicados o datos faltantes, e imprima la cantidad de registros que quedan (registros completos)."
   ]
  },
  {
   "cell_type": "code",
   "execution_count": 13,
   "metadata": {},
   "outputs": [
    {
     "data": {
      "text/plain": [
       "199819"
      ]
     },
     "execution_count": 13,
     "metadata": {},
     "output_type": "execute_result"
    }
   ],
   "source": [
    "dfunique = dfs1.copy()\n",
    "dfunique = (dfunique.drop_duplicates())\n",
    "dfunique = (dfunique.dropna()   )            \n",
    "len(dfunique.index)\n"
   ]
  },
  {
   "cell_type": "markdown",
   "metadata": {},
   "source": [
    "**5.--** Compute y grafique el precio primedio diario."
   ]
  },
  {
   "cell_type": "code",
   "execution_count": 14,
   "metadata": {},
   "outputs": [
    {
     "data": {
      "text/plain": [
       "Text(0.5, 0, 'Día')"
      ]
     },
     "execution_count": 14,
     "metadata": {},
     "output_type": "execute_result"
    },
    {
     "data": {
      "image/png": "[encoded data removed]",
      "text/plain": [
       "<Figure size 432x288 with 1 Axes>"
      ]
     },
     "metadata": {
      "needs_background": "light"
     },
     "output_type": "display_data"
    }
   ],
   "source": [
    "dfdia = dfunique.copy()\n",
    "dfdia['Fecha'] = pd.to_datetime(dfdia['Fecha']) #Convierte en Fecha\n",
    "dfdia['Dia'] =  dfdia[['Fecha']].apply(lambda x: dt.datetime.strftime(x['Fecha'], '%A'), axis=1)#Extrae el dia \n",
    "dfdia = dfdia.groupby('Dia').agg({'Precio': np.mean}) #Agrega la media por dia\n",
    "sorter = ['Monday', 'Tuesday', 'Wednesday', 'Thursday', 'Friday', 'Saturday', 'Sunday'] #Lista ordenada de los dias\n",
    "sorterIndex = dict(zip(sorter,range(len(sorter)))) #Crea un diccionario donde a cada día le asigna su posicion\n",
    "dfdia.reset_index(inplace=True) #agrega elindice como columna\n",
    "dfdia['DayRank'] = dfdia['Dia'].map(sorterIndex) #Crea indice con los dias ordenados\n",
    "dfdiasorted = (dfdia.sort_values('DayRank'))\n",
    "plt.bar(range(7), dfdiasorted['Precio'], color='green')\n",
    "plt.xticks(range(7), list(dfdiasorted['Dia']), rotation='vertical')\n",
    "plt.title('Precio promedio de Energía Diario')\n",
    "plt.xlabel('Día')"
   ]
  },
  {
   "cell_type": "markdown",
   "metadata": {},
   "source": [
    "**6.--** Compute y grafique el precio máximo por mes."
   ]
  },
  {
   "cell_type": "code",
   "execution_count": 15,
   "metadata": {},
   "outputs": [
    {
     "data": {
      "text/plain": [
       "Text(0.5, 0, 'Mes')"
      ]
     },
     "execution_count": 15,
     "metadata": {},
     "output_type": "execute_result"
    },
    {
     "data": {
      "image/png": "[encoded data removed]",
      "text/plain": [
       "<Figure size 432x288 with 1 Axes>"
      ]
     },
     "metadata": {
      "needs_background": "light"
     },
     "output_type": "display_data"
    }
   ],
   "source": [
    "dfmes = dfunique.copy()\n",
    "dfmes['Fecha'] = pd.to_datetime(dfmes['Fecha']) #Convierte en Fecha\n",
    "dfmes['Mes'] =  dfmes[['Fecha']].apply(lambda x: dt.datetime.strftime(x['Fecha'], '%m'), axis=1)#Extrae el mes\n",
    "dfmes = dfmes.groupby('Mes').agg({'Precio': np.max}) #Agrega el máximo por mes\n",
    "plt.bar(range(12), dfmes['Precio'], color='orange')\n",
    "plt.xticks(range(12), list((dfmes.index)), rotation='vertical')\n",
    "plt.title('Precio máximo mensual')\n",
    "plt.xlabel('Mes')"
   ]
  },
  {
   "cell_type": "markdown",
   "metadata": {},
   "source": [
    "**7.--** Compute y grafique el precio mínimo mensual."
   ]
  },
  {
   "cell_type": "code",
   "execution_count": 16,
   "metadata": {},
   "outputs": [
    {
     "data": {
      "text/plain": [
       "Text(0.5, 0, 'Mes')"
      ]
     },
     "execution_count": 16,
     "metadata": {},
     "output_type": "execute_result"
    },
    {
     "data": {
      "image/png": "[encoded data removed]",
      "text/plain": [
       "<Figure size 432x288 with 1 Axes>"
      ]
     },
     "metadata": {
      "needs_background": "light"
     },
     "output_type": "display_data"
    }
   ],
   "source": [
    "dfmesmin = dfunique.copy()\n",
    "dfmesmin['Fecha'] = pd.to_datetime(dfmesmin['Fecha']) #Convierte en Fecha\n",
    "dfmesmin['Mes'] =  dfmesmin[['Fecha']].apply(lambda x: dt.datetime.strftime(x['Fecha'], '%m'), axis=1)#Extrae el mes\n",
    "dfmesmin = dfmesmin.groupby('Mes').agg({'Precio': np.min}) #Agrega el minimo por mes\n",
    "plt.bar(range(12), dfmesmin['Precio'], color='red')\n",
    "plt.xticks(range(12), list((dfmesmin.index)), rotation='vertical')\n",
    "plt.title('Precio minimo mensual')\n",
    "plt.xlabel('Mes')"
   ]
  },
  {
   "cell_type": "markdown",
   "metadata": {},
   "source": [
    "**8.--** Haga un gráfico para comparar el precio máximo del mes (para cada mes) y el precio promedio mensual."
   ]
  },
  {
   "cell_type": "code",
   "execution_count": 17,
   "metadata": {},
   "outputs": [
    {
     "data": {
      "text/plain": [
       "Text(0.5, 0, 'Mes')"
      ]
     },
     "execution_count": 17,
     "metadata": {},
     "output_type": "execute_result"
    },
    {
     "data": {
      "image/png": "[encoded data removed]",
      "text/plain": [
       "<Figure size 1152x432 with 2 Axes>"
      ]
     },
     "metadata": {
      "needs_background": "light"
     },
     "output_type": "display_data"
    }
   ],
   "source": [
    "dfmesprom = dfunique.copy()\n",
    "dfmesprom['Fecha'] = pd.to_datetime(dfmesprom['Fecha']) #Convierte en Fecha\n",
    "dfmesprom['Mes'] =  dfmesprom[['Fecha']].apply(lambda x: dt.datetime.strftime(x['Fecha'], '%m'), axis=1)#Extrae el mes\n",
    "dfmesprom = dfmesprom.groupby('Mes').agg({'Precio': np.mean}) #Agrega el mes promedio\n",
    "\n",
    "plt.figure(figsize=(16, 6))\n",
    "plt.subplot(1, 2 , 1)\n",
    "plt.bar(range(12), dfmes['Precio'], color ='orange')\n",
    "plt.xticks(range(12), (list(dfmes.index)), rotation='vertical')\n",
    "plt.title('Precio máximo de Energía Mensual')\n",
    "plt.xlabel('Mes')\n",
    "plt.subplot(1, 2 , 2)\n",
    "plt.bar(range(12), dfmesprom['Precio'])\n",
    "plt.xticks(range(12), (list(dfmesprom.index)), rotation='vertical')\n",
    "plt.title('Precio Promedio de Energía Mensual')\n",
    "plt.xlabel('Mes')"
   ]
  },
  {
   "cell_type": "markdown",
   "metadata": {},
   "source": [
    "**9.--** Haga un histograma que muestre a que horas se produce el máximo precio diario para los días laborales."
   ]
  },
  {
   "cell_type": "code",
   "execution_count": 18,
   "metadata": {},
   "outputs": [
    {
     "data": {
      "text/plain": [
       "Text(0, 0.5, 'Numero de ocurrencias')"
      ]
     },
     "execution_count": 18,
     "metadata": {},
     "output_type": "execute_result"
    },
    {
     "data": {
      "image/png": "[encoded data removed]",
      "text/plain": [
       "<Figure size 432x288 with 1 Axes>"
      ]
     },
     "metadata": {
      "needs_background": "light"
     },
     "output_type": "display_data"
    }
   ],
   "source": [
    "dfdialab = dfunique.copy()\n",
    "dfdialab['Fecha'] = pd.to_datetime(dfdialab['Fecha'])\n",
    "dfdialab['Dia'] =  dfdialab[['Fecha']].apply(lambda x: dt.datetime.strftime(x['Fecha'], '%A'), axis=1)\n",
    "listdiahabil = ['Monday', 'Tuesday', 'Wednesday', 'Thursday', 'Friday']\n",
    "dfdialaboral = dfdialab[(dfdialab['Dia'] == 'Monday') | (dfdialab['Dia'] == 'Tuesday')| (dfdialab['Dia'] == 'Wednesday')| (dfdialab['Dia'] == 'Thursday')| (dfdialab['Dia'] == 'Friday')]\n",
    "dfgroupfecha = dfdialaboral.groupby('Fecha').agg({'Precio': np.max}) \n",
    "dfgroupfecha.reset_index(inplace=True)\n",
    "joindf = pd.merge(dfdialaboral, dfgroupfecha, on=['Fecha','Precio'], how='inner')\n",
    "\n",
    "dfhoras = list(map(int,joindf['Hora'].tolist()))\n",
    "plt.hist(dfhoras, bins=24)\n",
    "plt.title('Precio máximo por hora dias laborales\"')\n",
    "plt.xlabel('Horas')\n",
    "plt.ylabel('Numero de ocurrencias')"
   ]
  },
  {
   "cell_type": "markdown",
   "metadata": {},
   "source": [
    "**10.--** Haga un histograma que muestre a que horas se produce el máximo precio diario para los días sabado."
   ]
  },
  {
   "cell_type": "code",
   "execution_count": 19,
   "metadata": {},
   "outputs": [
    {
     "data": {
      "text/plain": [
       "Text(0, 0.5, 'Numero de ocurrencias')"
      ]
     },
     "execution_count": 19,
     "metadata": {},
     "output_type": "execute_result"
    },
    {
     "data": {
      "image/png": "[encoded data removed]",
      "text/plain": [
       "<Figure size 432x288 with 1 Axes>"
      ]
     },
     "metadata": {
      "needs_background": "light"
     },
     "output_type": "display_data"
    }
   ],
   "source": [
    "dfdiasab = dfunique.copy()\n",
    "dfdiasab['Fecha'] = pd.to_datetime(dfdiasab['Fecha'])\n",
    "dfdiasab['Dia'] =  dfdiasab[['Fecha']].apply(lambda x: dt.datetime.strftime(x['Fecha'], '%A'), axis=1)\n",
    "dfdiasabado = dfdiasab[(dfdiasab['Dia'] == 'Saturday')]\n",
    "dfgroupsab = dfdiasabado.groupby('Fecha').agg({'Precio': np.max}) \n",
    "dfgroupsab.reset_index(inplace=True)\n",
    "joindfsab = pd.merge(dfdiasabado, dfgroupsab, on=['Fecha','Precio'], how='inner')\n",
    "\n",
    "dfhorassab = list(map(int,joindfsab['Hora'].tolist()))\n",
    "plt.hist(dfhorassab, bins=24)\n",
    "plt.title('Precio máximo por hora Sabado')\n",
    "plt.xlabel('Horas')\n",
    "plt.ylabel('Numero de ocurrencias')"
   ]
  },
  {
   "cell_type": "markdown",
   "metadata": {},
   "source": [
    "**11.--** Haga un histograma que muestre a que horas se produce el máximo precio diario para los días domingo."
   ]
  },
  {
   "cell_type": "code",
   "execution_count": 20,
   "metadata": {},
   "outputs": [
    {
     "data": {
      "text/plain": [
       "Text(0, 0.5, 'Numero de ocurrencias')"
      ]
     },
     "execution_count": 20,
     "metadata": {},
     "output_type": "execute_result"
    },
    {
     "data": {
      "image/png": "[encoded data removed]",
      "text/plain": [
       "<Figure size 432x288 with 1 Axes>"
      ]
     },
     "metadata": {
      "needs_background": "light"
     },
     "output_type": "display_data"
    }
   ],
   "source": [
    "dfdiadom = dfunique.copy()\n",
    "dfdiadom['Fecha'] = pd.to_datetime(dfdiadom['Fecha'])\n",
    "dfdiadom['Dia'] =  dfdiadom[['Fecha']].apply(lambda x: dt.datetime.strftime(x['Fecha'], '%A'), axis=1)\n",
    "dfdiadomingo = dfdiadom[(dfdiadom['Dia'] == 'Sunday')]\n",
    "dfgroupdom = dfdiadomingo.groupby('Fecha').agg({'Precio': np.max}) \n",
    "dfgroupdom.reset_index(inplace=True)\n",
    "joindfdom = pd.merge(dfdiadomingo, dfgroupdom, on=['Fecha','Precio'], how='inner')\n",
    "\n",
    "dfhorasdom = list(map(int,joindfdom['Hora'].tolist()))\n",
    "plt.hist(dfhorasdom, bins=24)\n",
    "plt.title('Precio máximo por hora Domingo')\n",
    "plt.xlabel('Horas')\n",
    "plt.ylabel('Numero de ocurrencias')"
   ]
  },
  {
   "cell_type": "markdown",
   "metadata": {},
   "source": [
    "**12.--** Imprima una tabla con la fecha y el valor más bajo por año del precio de bolsa."
   ]
  },
  {
   "cell_type": "code",
   "execution_count": 21,
   "metadata": {},
   "outputs": [
    {
     "name": "stdout",
     "output_type": "stream",
     "text": [
      "            Fecha  MinPrecio\n",
      "7      1995-07-28   0.000000\n",
      "10     1995-07-31   0.000000\n",
      "11     1995-08-01   0.000000\n",
      "84     1995-10-13   0.000000\n",
      "338    1995-07-29   0.000000\n",
      "339    1995-07-30   0.000000\n",
      "3800   1995-07-26   0.000000\n",
      "4140   1996-06-30   0.000000\n",
      "4149   1996-07-09   0.000000\n",
      "4152   1996-07-12   0.000000\n",
      "4162   1996-07-22   0.000000\n",
      "4163   1996-07-23   0.000000\n",
      "4164   1996-07-24   0.000000\n",
      "4876   1996-07-04   0.000000\n",
      "5981   1996-07-11   0.000000\n",
      "7749   1996-05-10   0.000000\n",
      "9651   1996-07-21   0.000000\n",
      "12566  1996-07-08   0.000000\n",
      "13668  1997-07-15  10.882310\n",
      "21695  1998-07-12  13.847330\n",
      "21696  1998-07-13  13.847330\n",
      "21697  1998-07-14  13.847330\n",
      "21698  1998-07-15  13.847330\n",
      "21699  1998-07-16  13.847330\n",
      "21701  1998-07-18  13.847330\n",
      "21702  1998-07-19  13.847330\n",
      "21703  1998-07-20  13.847330\n",
      "21704  1998-07-21  13.847330\n",
      "21705  1998-07-22  13.847330\n",
      "21706  1998-07-23  13.847330\n",
      "...           ...        ...\n",
      "32539  1999-03-28  18.359530\n",
      "37652  1999-03-31  18.359530\n",
      "41303  2000-03-25  21.531167\n",
      "41304  2000-03-26  21.531167\n",
      "41306  2000-03-28  21.531167\n",
      "44233  2000-03-27  21.531167\n",
      "45333  2000-03-29  21.531167\n",
      "45335  2000-03-31  21.531167\n",
      "49133  2001-08-20  24.822879\n",
      "56685  2002-04-29  26.777682\n",
      "57041  2002-04-20  26.777682\n",
      "57046  2002-04-25  26.777682\n",
      "57409  2002-04-23  26.777682\n",
      "65371  2003-02-14  37.013438\n",
      "74541  2004-03-29  32.252998\n",
      "83147  2005-10-04  27.581415\n",
      "92650  2006-10-17  26.714797\n",
      "100513 2007-05-03  30.173824\n",
      "109297 2008-05-26  29.199135\n",
      "118290 2009-12-22  32.892503\n",
      "118657 2009-12-24  32.892503\n",
      "126887 2010-07-12  32.024957\n",
      "135611 2011-06-06  33.291100\n",
      "146530 2012-04-29  34.988099\n",
      "153007 2013-01-09  40.415346\n",
      "162495 2014-01-11  38.941951\n",
      "171250 2015-01-06  46.791501\n",
      "179618 2016-12-09  61.100689\n",
      "188145 2017-03-28  60.312095\n",
      "197289 2018-04-06  61.457224\n",
      "\n",
      "[71 rows x 2 columns]\n"
     ]
    }
   ],
   "source": [
    "dfdiamin = dfunique.copy()\n",
    "dfdiamin['Fecha'] = pd.to_datetime(dfdiamin['Fecha'])\n",
    "dfdiamin['Year'] =  dfdiamin[['Fecha']].apply(lambda x: dt.datetime.strftime(x['Fecha'], '%Y'), axis=1)\n",
    "dfgroupminfecha = dfdiamin.groupby('Year').agg({'Precio': np.min}) \n",
    "dfgroupminfecha.reset_index(inplace=True)\n",
    "dfgroupminfecha.columns = [\"Year\",\"MinPrecio\"]\n",
    "joindfmin = pd.merge(dfgroupminfecha, dfdiamin, on = ['Year'], how ='inner')\n",
    "joindfmin = joindfmin[(joindfmin['MinPrecio'] == joindfmin['Precio'])]\n",
    "print(joindfmin[['Fecha','MinPrecio']].drop_duplicates())"
   ]
  },
  {
   "cell_type": "markdown",
   "metadata": {},
   "source": [
    "**13.--** Haga una gráfica en que se muestre el precio promedio diario y el precio promedio mensual."
   ]
  },
  {
   "cell_type": "code",
   "execution_count": 22,
   "metadata": {},
   "outputs": [
    {
     "name": "stderr",
     "output_type": "stream",
     "text": [
      "/usr/local/lib/python3.6/dist-packages/pandas/plotting/_converter.py:129: FutureWarning: Using an implicitly registered datetime converter for a matplotlib plotting method. The converter was registered by pandas on import. Future versions of pandas will require you to explicitly register matplotlib converters.\n",
      "\n",
      "To register the converters:\n",
      "\t>>> from pandas.plotting import register_matplotlib_converters\n",
      "\t>>> register_matplotlib_converters()\n",
      "  warnings.warn(msg, FutureWarning)\n"
     ]
    },
    {
     "data": {
      "text/plain": [
       "<matplotlib.legend.Legend at 0x7feb074d1160>"
      ]
     },
     "execution_count": 22,
     "metadata": {},
     "output_type": "execute_result"
    },
    {
     "data": {
      "text/plain": [
       "<Figure size 1440x1440 with 0 Axes>"
      ]
     },
     "metadata": {},
     "output_type": "display_data"
    },
    {
     "data": {
      "image/png": "[encoded data removed]",
      "text/plain": [
       "<Figure size 432x288 with 1 Axes>"
      ]
     },
     "metadata": {
      "needs_background": "light"
     },
     "output_type": "display_data"
    }
   ],
   "source": [
    "dfmesmean = dfunique.copy()\n",
    "dfmesmean['Fecha'] = pd.to_datetime(dfmesmean['Fecha'])\n",
    "dfmesmean['Mes'] =  dfmesmean[['Fecha']].apply(lambda x: dt.datetime.strftime(x['Fecha'], '%m'), axis=1)\n",
    "dfmesmean['Anio'] =  dfmesmean[['Fecha']].apply(lambda x: dt.datetime.strftime(x['Fecha'], '%Y'), axis=1)\n",
    "dfaniomes = dfmesmean.groupby(['Mes','Anio']).agg({'Precio': np.mean}) \n",
    "dfaniomes.reset_index(inplace=True)\n",
    "dfaniomes.columns = ['Mes','Anio','Promedio-Mes']\n",
    "\n",
    "joinmesmean = pd.merge(dfaniomes, dfmesmean, on = ['Mes','Anio'], how ='inner')\n",
    "\n",
    "dfdiamean = dfunique.copy()\n",
    "dfdiamean = dfdiamean.groupby('Fecha').agg({'Precio': np.mean}) \n",
    "dfdiamean.reset_index(inplace=True)\n",
    "dfdiamean.columns = ['Fecha','Promedio-Dia']\n",
    "\n",
    "joinmesdia = pd.merge(dfaniomes, dfmesmean, on = ['Mes','Anio'], how ='inner')\n",
    "joinmesdia = pd.merge(joinmesdia, dfdiamean, on = ['Fecha'], how ='inner')\n",
    "dfgraph = joinmesdia.groupby('Fecha').agg({'Promedio-Dia': np.mean,'Promedio-Mes': np.mean}) \n",
    "\n",
    "plt.figure(figsize=(20, 20))\n",
    "fig, ax = plt.subplots()\n",
    "ax.plot((dfgraph.index.tolist()), dfgraph['Promedio-Dia'], label=\"Precio promedio por día\")\n",
    "ax.plot((dfgraph.index.tolist()), dfgraph['Promedio-Mes'], label=\"Precio promedio por mes\")\n",
    "plt.xlabel(\"Año\")\n",
    "plt.ylabel(\"Precio\")\n",
    "\n",
    "ax.legend()"
   ]
  },
  {
   "cell_type": "markdown",
   "metadata": {},
   "source": [
    "---"
   ]
  }
 ],
 "metadata": {
  "anaconda-cloud": {},
  "kernel_info": {
   "name": "python3"
  },
  "kernelspec": {
   "display_name": "Python 3",
   "language": "python",
   "name": "python3"
  },
  "language_info": {
   "codemirror_mode": {
    "name": "ipython",
    "version": 3
   },
   "file_extension": ".py",
   "mimetype": "text/x-python",
   "name": "python",
   "nbconvert_exporter": "python",
   "pygments_lexer": "ipython3",
   "version": "3.6.7"
  },
  "nteract": {
   "version": "0.7.1"
  }
 },
 "nbformat": 4,
 "nbformat_minor": 2
}
